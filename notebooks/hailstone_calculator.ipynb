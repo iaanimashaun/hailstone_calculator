{
 "cells": [
  {
   "cell_type": "code",
   "execution_count": 1,
   "metadata": {},
   "outputs": [],
   "source": [
    "path_to_src = '../src/hailstone_calculator/'\n",
    "import sys\n",
    "sys.path.insert(0, path_to_src)\n",
    "from hailstone_calculator import HailstoneCalculator\n"
   ]
  },
  {
   "cell_type": "code",
   "execution_count": 1,
   "metadata": {},
   "outputs": [
    {
     "name": "stdout",
     "output_type": "stream",
     "text": [
      "Collecting hailstone_calculator\n",
      "  Downloading hailstone_calculator-0.0.8.tar.gz (1.6 kB)\n",
      "  Preparing metadata (setup.py) ... \u001b[?25ldone\n",
      "\u001b[?25hBuilding wheels for collected packages: hailstone_calculator\n",
      "  Building wheel for hailstone_calculator (setup.py) ... \u001b[?25ldone\n",
      "\u001b[?25h  Created wheel for hailstone_calculator: filename=hailstone_calculator-0.0.8-py3-none-any.whl size=2077 sha256=ee05e4589ca36a34cbec196120cbf70c204d155f8a5a74387ee768276cb55904\n",
      "  Stored in directory: /home/ubuntu/.cache/pip/wheels/26/7b/70/a9cbc7b9f878606182440752ca171643f5b7ade5c0efd19195\n",
      "Successfully built hailstone_calculator\n",
      "Installing collected packages: hailstone_calculator\n",
      "Successfully installed hailstone_calculator-0.0.8\n"
     ]
    }
   ],
   "source": [
    "!pip install hailstone_calculator"
   ]
  },
  {
   "cell_type": "code",
   "execution_count": 2,
   "metadata": {},
   "outputs": [],
   "source": [
    "from hailstone_calculator.calculator import HailstoneCalculator\n"
   ]
  },
  {
   "cell_type": "code",
   "execution_count": 3,
   "metadata": {},
   "outputs": [],
   "source": [
    "starting_number = 4\n",
    "hailstone_calculator = HailstoneCalculator(starting_number)\n"
   ]
  },
  {
   "cell_type": "code",
   "execution_count": 4,
   "metadata": {},
   "outputs": [],
   "source": [
    "hailstone_calculator.calculate_hailstone_sequence()\n"
   ]
  },
  {
   "cell_type": "code",
   "execution_count": null,
   "metadata": {},
   "outputs": [],
   "source": [
    "\n",
    "# Display results\n",
    "print(\"\\nResults:\")\n",
    "print(f\"Number of steps: {hailstone_calculator.get_number_of_steps()}\")\n",
    "print(f\"List of steps: {hailstone_calculator.get_steps_list()}\")\n",
    "print(hailstone_calculator.generate_textual_summary())\n"
   ]
  },
  {
   "cell_type": "code",
   "execution_count": null,
   "metadata": {},
   "outputs": [],
   "source": []
  },
  {
   "cell_type": "code",
   "execution_count": 4,
   "metadata": {},
   "outputs": [
    {
     "name": "stdout",
     "output_type": "stream",
     "text": [
      "\n",
      "Results:\n",
      "Number of steps: 111\n",
      "List of steps: [27, 82, 41, 124, 62, 31, 94, 47, 142, 71, 214, 107, 322, 161, 484, 242, 121, 364, 182, 91, 274, 137, 412, 206, 103, 310, 155, 466, 233, 700, 350, 175, 526, 263, 790, 395, 1186, 593, 1780, 890, 445, 1336, 668, 334, 167, 502, 251, 754, 377, 1132, 566, 283, 850, 425, 1276, 638, 319, 958, 479, 1438, 719, 2158, 1079, 3238, 1619, 4858, 2429, 7288, 3644, 1822, 911, 2734, 1367, 4102, 2051, 6154, 3077, 9232, 4616, 2308, 1154, 577, 1732, 866, 433, 1300, 650, 325, 976, 488, 244, 122, 61, 184, 92, 46, 23, 70, 35, 106, 53, 160, 80, 40, 20, 10, 5, 16, 8, 4, 2, 1]\n",
      "Hailstone sequence: 27, 82, 41, 124, 62, 31, 94, 47, 142, 71, 214, 107, 322, 161, 484, 242, 121, 364, 182, 91, 274, 137, 412, 206, 103, 310, 155, 466, 233, 700, 350, 175, 526, 263, 790, 395, 1186, 593, 1780, 890, 445, 1336, 668, 334, 167, 502, 251, 754, 377, 1132, 566, 283, 850, 425, 1276, 638, 319, 958, 479, 1438, 719, 2158, 1079, 3238, 1619, 4858, 2429, 7288, 3644, 1822, 911, 2734, 1367, 4102, 2051, 6154, 3077, 9232, 4616, 2308, 1154, 577, 1732, 866, 433, 1300, 650, 325, 976, 488, 244, 122, 61, 184, 92, 46, 23, 70, 35, 106, 53, 160, 80, 40, 20, 10, 5, 16, 8, 4, 2, 1\n",
      "Number of steps: 111\n",
      "Final number: 1\n"
     ]
    }
   ],
   "source": [
    "\n",
    "starting_number = int(input(\"Enter the starting number for hailstone sequence: \"))\n",
    "\n",
    "# Create an instance of HailstoneCalculator\n",
    "hailstone_calculator = HailstoneCalculator(starting_number)\n",
    "\n",
    "# Calculate the hailstone sequence\n",
    "hailstone_calculator.calculate_hailstone_sequence()\n",
    "\n",
    "# Display results\n",
    "print(\"\\nResults:\")\n",
    "print(f\"Number of steps: {hailstone_calculator.get_number_of_steps()}\")\n",
    "print(f\"List of steps: {hailstone_calculator.get_steps_list()}\")\n",
    "print(hailstone_calculator.generate_textual_summary())\n"
   ]
  },
  {
   "cell_type": "code",
   "execution_count": null,
   "metadata": {},
   "outputs": [],
   "source": []
  }
 ],
 "metadata": {
  "kernelspec": {
   "display_name": "Python 3",
   "language": "python",
   "name": "python3"
  },
  "language_info": {
   "codemirror_mode": {
    "name": "ipython",
    "version": 3
   },
   "file_extension": ".py",
   "mimetype": "text/x-python",
   "name": "python",
   "nbconvert_exporter": "python",
   "pygments_lexer": "ipython3",
   "version": "3.10.13"
  }
 },
 "nbformat": 4,
 "nbformat_minor": 2
}
