{
 "cells": [
  {
   "cell_type": "code",
   "execution_count": 1,
   "metadata": {},
   "outputs": [],
   "source": [
    "# Set the path to the source directory for the Hailstone Calculator module\n",
    "path_to_src = '../src/hailstone_calculator/'\n",
    "\n",
    "# Add the source directory to the Python path to enable module imports\n",
    "import sys\n",
    "sys.path.insert(0, path_to_src)\n",
    "\n",
    "# Import the HailstoneCalculator class from the calculator module\n",
    "from hailstone_calculator.calculator import calculate_hailstone_sequence\n"
   ]
  },
  {
   "cell_type": "code",
   "execution_count": 4,
   "metadata": {},
   "outputs": [
    {
     "name": "stdout",
     "output_type": "stream",
     "text": [
      "\n",
      "Results:\n",
      "Number of steps: 111\n",
      "List of steps: [27, 82, 41, 124, 62, 31, 94, 47, 142, 71, 214, 107, 322, 161, 484, 242, 121, 364, 182, 91, 274, 137, 412, 206, 103, 310, 155, 466, 233, 700, 350, 175, 526, 263, 790, 395, 1186, 593, 1780, 890, 445, 1336, 668, 334, 167, 502, 251, 754, 377, 1132, 566, 283, 850, 425, 1276, 638, 319, 958, 479, 1438, 719, 2158, 1079, 3238, 1619, 4858, 2429, 7288, 3644, 1822, 911, 2734, 1367, 4102, 2051, 6154, 3077, 9232, 4616, 2308, 1154, 577, 1732, 866, 433, 1300, 650, 325, 976, 488, 244, 122, 61, 184, 92, 46, 23, 70, 35, 106, 53, 160, 80, 40, 20, 10, 5, 16, 8, 4, 2, 1]\n",
      "Hailstone sequence: 27, 82, 41, 124, 62, 31, 94, 47, 142, 71, 214, 107, 322, 161, 484, 242, 121, 364, 182, 91, 274, 137, 412, 206, 103, 310, 155, 466, 233, 700, 350, 175, 526, 263, 790, 395, 1186, 593, 1780, 890, 445, 1336, 668, 334, 167, 502, 251, 754, 377, 1132, 566, 283, 850, 425, 1276, 638, 319, 958, 479, 1438, 719, 2158, 1079, 3238, 1619, 4858, 2429, 7288, 3644, 1822, 911, 2734, 1367, 4102, 2051, 6154, 3077, 9232, 4616, 2308, 1154, 577, 1732, 866, 433, 1300, 650, 325, 976, 488, 244, 122, 61, 184, 92, 46, 23, 70, 35, 106, 53, 160, 80, 40, 20, 10, 5, 16, 8, 4, 2, 1\n",
      "Number of steps: 111\n",
      "Final number: 1\n"
     ]
    }
   ],
   "source": [
    "\n",
    "starting_number = int(input(\"Enter the starting number for hailstone sequence: \"))\n",
    "\n",
    "# Calculate Hailstone sequence\n",
    "result = calculate_hailstone_sequence(starting_number_int)\n",
    "\n",
    "\n",
    "# Calculate and display results\n",
    "print(\"\\nOutputs:\")\n",
    "result = calculate_hailstone_sequence(starting_number_int)\n",
    "number_of_steps = result[\"number_of_steps\"]\n",
    "list_of_steps = result[\"list_of_steps\"]\n",
    "textual_summary = result[\"textual_summary\"]\n",
    "print(f\"Number of steps: {number_of_steps}\")\n",
    "print(f\"List of steps: {list_of_steps}\")\n",
    "print(\"Textual Summary:\")\n",
    "print(textual_summary)"
   ]
  },
  {
   "cell_type": "code",
   "execution_count": null,
   "metadata": {},
   "outputs": [],
   "source": []
  }
 ],
 "metadata": {
  "kernelspec": {
   "display_name": "Python 3",
   "language": "python",
   "name": "python3"
  },
  "language_info": {
   "codemirror_mode": {
    "name": "ipython",
    "version": 3
   },
   "file_extension": ".py",
   "mimetype": "text/x-python",
   "name": "python",
   "nbconvert_exporter": "python",
   "pygments_lexer": "ipython3",
   "version": "3.10.13"
  }
 },
 "nbformat": 4,
 "nbformat_minor": 2
}
