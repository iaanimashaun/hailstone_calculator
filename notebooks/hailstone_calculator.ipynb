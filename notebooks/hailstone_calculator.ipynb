{
 "cells": [
  {
   "cell_type": "code",
   "execution_count": 21,
   "metadata": {},
   "outputs": [],
   "source": [
    "# Set the path to the source directory for the Hailstone Calculator module\n",
    "path_to_src = '../src/'\n",
    "\n",
    "# Add the source directory to the Python path to enable module imports\n",
    "import sys\n",
    "sys.path.insert(0, path_to_src)\n",
    "\n",
    "# Import the HailstoneCalculator class from the calculator module\n",
    "from hailstone_calculator.calculator import calculate_hailstone_sequence\n"
   ]
  },
  {
   "cell_type": "code",
   "execution_count": 22,
   "metadata": {},
   "outputs": [
    {
     "name": "stdout",
     "output_type": "stream",
     "text": [
      "\n",
      "Outputs:\n",
      "Number of steps: 19\n",
      "List of steps: [56, 28, 14, 7, 22, 11, 34, 17, 52, 26, 13, 40, 20, 10, 5, 16, 8, 4, 2, 1]\n",
      "Textual Summary:\n",
      "Hailstone sequence: 56, 28, 14, 7, 22, 11, 34, 17, 52, 26, 13, 40, 20, 10, 5, 16, 8, 4, 2, 1\n",
      "Number of steps: 19\n",
      "Final number: 1\n"
     ]
    }
   ],
   "source": [
    "\n",
    "starting_number_int = int(input(\"Enter the starting number for hailstone sequence: \"))\n",
    "\n",
    "# Calculate Hailstone sequence\n",
    "result = calculate_hailstone_sequence(starting_number_int)\n",
    "\n",
    "\n",
    "# Calculate and display results\n",
    "print(\"\\nOutputs:\")\n",
    "result = calculate_hailstone_sequence(starting_number_int)\n",
    "number_of_steps = result[\"number_of_steps\"]\n",
    "list_of_steps = result[\"list_of_steps\"]\n",
    "textual_summary = result[\"textual_summary\"]\n",
    "print(f\"Number of steps: {number_of_steps}\")\n",
    "print(f\"List of steps: {list_of_steps}\")\n",
    "print(\"Textual Summary:\")\n",
    "print(textual_summary)"
   ]
  }
 ],
 "metadata": {
  "kernelspec": {
   "display_name": "Python 3",
   "language": "python",
   "name": "python3"
  },
  "language_info": {
   "codemirror_mode": {
    "name": "ipython",
    "version": 3
   },
   "file_extension": ".py",
   "mimetype": "text/x-python",
   "name": "python",
   "nbconvert_exporter": "python",
   "pygments_lexer": "ipython3",
   "version": "3.10.13"
  }
 },
 "nbformat": 4,
 "nbformat_minor": 2
}
